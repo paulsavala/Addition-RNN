{
 "cells": [
  {
   "cell_type": "markdown",
   "metadata": {
    "id": "J0Qjg6vuaHNt"
   },
   "source": [
    "# Attention with curriculum learning\n",
    "\n",
    "The point of this notebook is to use curriculum learning"
   ]
  },
  {
   "cell_type": "code",
   "execution_count": 1,
   "metadata": {
    "colab": {
     "base_uri": "https://localhost:8080/",
     "height": 34
    },
    "id": "tnxXKDjq3jEL",
    "outputId": "b3fd78fc-a567-4313-bfab-5a6a312b4aeb"
   },
   "outputs": [],
   "source": [
    "import tensorflow as tf\n",
    "\n",
    "import matplotlib.pyplot as plt\n",
    "import matplotlib.ticker as ticker\n",
    "from sklearn.model_selection import train_test_split\n",
    "\n",
    "import unicodedata\n",
    "import re\n",
    "import numpy as np\n",
    "import os\n",
    "import io\n",
    "import time\n",
    "from pathlib import Path\n",
    "from collections import Counter\n",
    "\n",
    "import sys\n",
    "sys.path.append('/Users/psavala/Local_DS/Addition-RNN/Code')"
   ]
  },
  {
   "cell_type": "code",
   "execution_count": 2,
   "metadata": {},
   "outputs": [],
   "source": [
    "from models.seq2seq import Seq2Seq\n",
    "from utils.integers import char_to_int_map, input_seq_length, target_seq_length\n",
    "from utils.common import reverse_dict\n",
    "from utils.data import Data\n",
    "from utils.file_io import list_to_csv\n",
    "from utils.training import format_targets\n",
    "from utils.prediction import pprint_metrics\n",
    "from data_gen.integer_addition import generate_samples\n",
    "\n",
    "\n",
    "from tensorflow.keras.optimizers import Adam"
   ]
  },
  {
   "cell_type": "code",
   "execution_count": 41,
   "metadata": {},
   "outputs": [],
   "source": [
    "class Config:\n",
    "    n_terms = 3\n",
    "    n_digits = 2\n",
    "    train_size = 5 * 10**3\n",
    "    test_size = 10**3\n",
    "    validation_split = 0\n",
    "    epochs = 100\n",
    "    reverse = False\n",
    "    encoder_units = 32\n",
    "    batch_size = 64\n",
    "    allow_less_terms = False\n",
    "    uniform_samples = False\n",
    "    generalize_to_n_terms = False\n",
    "    saved_data = Data.uniform_sum\n",
    "    \n",
    "data_type = 'random'\n",
    "\n",
    "\n",
    "class Mappings:\n",
    "    char_to_int = char_to_int_map()\n",
    "    int_to_char = reverse_dict(char_to_int)"
   ]
  },
  {
   "cell_type": "markdown",
   "metadata": {
    "id": "jE0wJLpPIF42"
   },
   "source": [
    "## Load integer addition data"
   ]
  },
  {
   "cell_type": "code",
   "execution_count": 9,
   "metadata": {},
   "outputs": [],
   "source": [
    "def save(a, fname, data_type, n_terms, n_digits):\n",
    "    term_dig_dir = Path(f'{n_terms}term_{n_digits}digs')\n",
    "\n",
    "    file_dir = Path('../Code') / Path('data') / Path(data_type) / term_dig_dir\n",
    "    np.save(file_dir / Path(fname), a, allow_pickle=True)"
   ]
  },
  {
   "cell_type": "code",
   "execution_count": 10,
   "metadata": {
    "id": "PCMJUn0qIH97"
   },
   "outputs": [],
   "source": [
    "def load_full(data_type, n_terms, n_digits):\n",
    "    term_dig_dir = Path(f'{n_terms}term_{n_digits}digs')\n",
    "\n",
    "    file_dir = Path('../Code') / Path('data') / Path(data_type) / term_dig_dir\n",
    "    X_train = np.load(file_dir / Path('X_train.npy'), allow_pickle=True)\n",
    "    X_test = np.load(file_dir / Path('X_test.npy'), allow_pickle=True)\n",
    "    y_train = np.load(file_dir / Path('y_train.npy'), allow_pickle=True)\n",
    "    y_test = np.load(file_dir / Path('y_test.npy'), allow_pickle=True)\n",
    "\n",
    "    return X_train, X_test, y_train, y_test"
   ]
  },
  {
   "cell_type": "code",
   "execution_count": 11,
   "metadata": {
    "id": "srhN7ga8Ic3V"
   },
   "outputs": [],
   "source": [
    "X_train, X_test, y_train, y_test = load_full(data_type, Config.n_terms, Config.n_digits)"
   ]
  },
  {
   "cell_type": "code",
   "execution_count": 12,
   "metadata": {
    "colab": {
     "base_uri": "https://localhost:8080/",
     "height": 34
    },
    "id": "4ddOWA0LSvA3",
    "outputId": "351b8758-e418-4921-d302-c453846f1e23"
   },
   "outputs": [
    {
     "data": {
      "text/plain": [
       "(700000, 9)"
      ]
     },
     "execution_count": 12,
     "metadata": {},
     "output_type": "execute_result"
    }
   ],
   "source": [
    "X_train.shape"
   ]
  },
  {
   "cell_type": "code",
   "execution_count": 13,
   "metadata": {
    "colab": {
     "base_uri": "https://localhost:8080/",
     "height": 34
    },
    "id": "gi1V-VefSyEL",
    "outputId": "9c0a6057-14f4-4557-a2c2-26bac4602dca"
   },
   "outputs": [
    {
     "data": {
      "text/plain": [
       "array([ 7, 10,  1,  2, 10,  9,  1, 12, 13])"
      ]
     },
     "execution_count": 13,
     "metadata": {},
     "output_type": "execute_result"
    }
   ],
   "source": [
    "X_train[0]"
   ]
  },
  {
   "cell_type": "code",
   "execution_count": 14,
   "metadata": {
    "colab": {
     "base_uri": "https://localhost:8080/",
     "height": 34
    },
    "id": "BAQJvHQn-Dmw",
    "outputId": "4bb23cc7-f104-4ca6-b8ac-7187a9a8b85c"
   },
   "outputs": [
    {
     "data": {
      "text/plain": [
       "(700000, 5)"
      ]
     },
     "execution_count": 14,
     "metadata": {},
     "output_type": "execute_result"
    }
   ],
   "source": [
    "y_train.shape"
   ]
  },
  {
   "cell_type": "code",
   "execution_count": 15,
   "metadata": {
    "colab": {
     "base_uri": "https://localhost:8080/",
     "height": 34
    },
    "id": "Zz0emBL7APlP",
    "outputId": "607f0494-f260-4fe9-ac25-64f4f7a03d93"
   },
   "outputs": [
    {
     "data": {
      "text/plain": [
       "array([11,  1,  1,  0, 12])"
      ]
     },
     "execution_count": 15,
     "metadata": {},
     "output_type": "execute_result"
    }
   ],
   "source": [
    "y_train[0]"
   ]
  },
  {
   "cell_type": "code",
   "execution_count": 16,
   "metadata": {
    "colab": {
     "base_uri": "https://localhost:8080/",
     "height": 34
    },
    "id": "cg45pl4pIu_p",
    "outputId": "aed23dd0-396b-47c8-9b59-8fac030e70b7"
   },
   "outputs": [
    {
     "data": {
      "text/plain": [
       "((700000, 9), (700000, 5))"
      ]
     },
     "execution_count": 16,
     "metadata": {},
     "output_type": "execute_result"
    }
   ],
   "source": [
    "X_train.shape, y_train.shape"
   ]
  },
  {
   "cell_type": "code",
   "execution_count": 17,
   "metadata": {
    "colab": {
     "base_uri": "https://localhost:8080/",
     "height": 34
    },
    "id": "Mjr0RK5jIyTS",
    "outputId": "977e75cb-95e0-4257-fa80-ee9528dda5c9"
   },
   "outputs": [
    {
     "data": {
      "text/plain": [
       "((300000, 9), (300000, 5))"
      ]
     },
     "execution_count": 17,
     "metadata": {},
     "output_type": "execute_result"
    }
   ],
   "source": [
    "X_test.shape, y_test.shape"
   ]
  },
  {
   "cell_type": "code",
   "execution_count": 18,
   "metadata": {
    "id": "qNRIjWaM1hal"
   },
   "outputs": [],
   "source": [
    "def decode(v):\n",
    "    return Mappings.int_to_char[v]"
   ]
  },
  {
   "cell_type": "markdown",
   "metadata": {},
   "source": [
    "## Split into curriculum sets (SKIP)\n",
    "\n",
    "Split into sums with only one non-zero summands, two non-zero summands, and remaining sums."
   ]
  },
  {
   "cell_type": "code",
   "execution_count": 84,
   "metadata": {},
   "outputs": [],
   "source": [
    "one_nonzero_X = []\n",
    "one_nonzero_y = []\n",
    "\n",
    "two_nonzero_X = []\n",
    "two_nonzero_y = []\n",
    "\n",
    "three_nonzero_X = []\n",
    "three_nonzero_y = []\n",
    "\n",
    "c = 0\n",
    "for x, y in zip(X_train, y_train):\n",
    "    x_dec = ''.join(decode(n) for n in x)\n",
    "    x_dec = x_dec.replace('\\n', '').replace(' ', '')\n",
    "    # One non-zero summand\n",
    "    if x_dec.startswith('0+0+') or x_dec.endswith('+0+0') or (x_dec.startswith('0+') and x_dec.endswith('+0')):\n",
    "        one_nonzero_X.append(x)\n",
    "        one_nonzero_y.append(y)\n",
    "    elif x_dec.startswith('0+') or x_dec.endswith('+0') or ('+0+' in x_dec):\n",
    "        two_nonzero_X.append(x)\n",
    "        two_nonzero_y.append(y)\n",
    "    else:\n",
    "        three_nonzero_X.append(x)\n",
    "        three_nonzero_y.append(y)\n",
    "        \n",
    "one_nonzero_X = np.array(one_nonzero_X)\n",
    "one_nonzero_y = np.array(one_nonzero_y)\n",
    "\n",
    "two_nonzero_X = np.array(two_nonzero_X)\n",
    "two_nonzero_y = np.array(two_nonzero_y)\n",
    "\n",
    "three_nonzero_X = np.array(three_nonzero_X)\n",
    "three_nonzero_y = np.array(three_nonzero_y)"
   ]
  },
  {
   "cell_type": "code",
   "execution_count": 85,
   "metadata": {},
   "outputs": [],
   "source": [
    "save(one_nonzero_X, 'X_train_one_nonzero.npy', 'random', 3, 2)\n",
    "save(one_nonzero_y, 'y_train_one_nonzero.npy', 'random', 3, 2)\n",
    "\n",
    "save(two_nonzero_X, 'X_train_two_nonzero.npy', 'random', 3, 2)\n",
    "save(two_nonzero_y, 'y_train_two_nonzero.npy', 'random', 3, 2)\n",
    "\n",
    "save(three_nonzero_X, 'X_train_three_nonzero.npy', 'random', 3, 2)\n",
    "save(three_nonzero_y, 'y_train_three_nonzero.npy', 'random', 3, 2)"
   ]
  },
  {
   "cell_type": "markdown",
   "metadata": {},
   "source": [
    "## Load curriculum datasets"
   ]
  },
  {
   "cell_type": "code",
   "execution_count": 7,
   "metadata": {},
   "outputs": [],
   "source": [
    "term_dig_dir = Path(f'{Config.n_terms}term_{Config.n_digits}digs')\n",
    "file_dir = Path('../Code') / Path('data') / Path(data_type) / term_dig_dir\n",
    "\n",
    "one_nonzero_X = np.load(file_dir / Path('X_train_one_nonzero.npy'), allow_pickle=True)\n",
    "one_nonzero_y = np.load(file_dir / Path('y_train_one_nonzero.npy'), allow_pickle=True)\n",
    "\n",
    "two_nonzero_X = np.load(file_dir / Path('X_train_two_nonzero.npy'), allow_pickle=True)\n",
    "two_nonzero_y = np.load(file_dir / Path('y_train_two_nonzero.npy'), allow_pickle=True)\n",
    "\n",
    "three_nonzero_X = np.load(file_dir / Path('X_train_three_nonzero.npy'), allow_pickle=True)\n",
    "three_nonzero_y = np.load(file_dir / Path('y_train_three_nonzero.npy'), allow_pickle=True)"
   ]
  },
  {
   "cell_type": "markdown",
   "metadata": {
    "id": "rgCLkfv5uO3d"
   },
   "source": [
    "### Create a tf.data dataset"
   ]
  },
  {
   "cell_type": "code",
   "execution_count": 19,
   "metadata": {
    "id": "TqHsArVZ3jFS"
   },
   "outputs": [],
   "source": [
    "BUFFER_SIZE = X_train.shape[0]\n",
    "BATCH_SIZE = 32\n",
    "steps_per_epoch = X_train.shape[0] // BATCH_SIZE\n",
    "embedding_dim = 13\n",
    "units = 256\n",
    "bidir = True\n",
    "vocab_inp_size = len(Mappings.char_to_int)\n",
    "vocab_tar_size = len(Mappings.char_to_int)\n",
    "\n",
    "# Data is already padded, so we can just grab any one\n",
    "max_length_inp = len(X_train[0])\n",
    "max_length_targ = len(y_train[0])\n",
    "\n",
    "train_ds = tf.data.Dataset.from_tensor_slices((X_train, y_train)).shuffle(BUFFER_SIZE)\n",
    "train_ds = train_ds.batch(BATCH_SIZE, drop_remainder=True)\n",
    "\n",
    "train_one_nonzero_ds = tf.data.Dataset.from_tensor_slices((one_nonzero_X, one_nonzero_y)).shuffle(BUFFER_SIZE)\n",
    "train_one_nonzero_ds = train_one_nonzero_ds.batch(BATCH_SIZE, drop_remainder=True)\n",
    "\n",
    "train_two_nonzero_ds = tf.data.Dataset.from_tensor_slices((two_nonzero_X, two_nonzero_y)).shuffle(BUFFER_SIZE)\n",
    "train_two_nonzero_ds = train_two_nonzero_ds.batch(BATCH_SIZE, drop_remainder=True)\n",
    "\n",
    "train_three_nonzero_ds = tf.data.Dataset.from_tensor_slices((three_nonzero_X, three_nonzero_y)).shuffle(BUFFER_SIZE)\n",
    "train_three_nonzero_ds = train_three_nonzero_ds.batch(BATCH_SIZE, drop_remainder=True)"
   ]
  },
  {
   "cell_type": "markdown",
   "metadata": {},
   "source": [
    "Sanity checks"
   ]
  },
  {
   "cell_type": "code",
   "execution_count": 20,
   "metadata": {
    "colab": {
     "base_uri": "https://localhost:8080/",
     "height": 34
    },
    "id": "qc6-NK1GtWQt",
    "outputId": "c242e480-3713-462c-8196-019dc46ca4cd"
   },
   "outputs": [],
   "source": [
    "example_input_batch, example_target_batch = next(iter(train_ds))\n",
    "example_input1_batch, example_target1_batch = next(iter(train_one_nonzero_ds))\n",
    "example_input2_batch, example_target2_batch = next(iter(train_two_nonzero_ds))\n",
    "example_input3_batch, example_target3_batch = next(iter(train_three_nonzero_ds))\n",
    "\n",
    "assert example_input_batch.shape == example_input1_batch.shape == example_input2_batch.shape == example_input3_batch.shape\n",
    "assert example_target_batch.shape == example_target1_batch.shape == example_target2_batch.shape == example_target3_batch.shape"
   ]
  },
  {
   "cell_type": "markdown",
   "metadata": {
    "id": "TNfHIF71ulLu"
   },
   "source": [
    "## Write the encoder and decoder model\n",
    "\n",
    "Implement an encoder-decoder model with attention which you can read about in the TensorFlow [Neural Machine Translation (seq2seq) tutorial](https://github.com/tensorflow/nmt). This example uses a more recent set of APIs. This notebook implements the [attention equations](https://github.com/tensorflow/nmt#background-on-the-attention-mechanism) from the seq2seq tutorial. The following diagram shows that each input words is assigned a weight by the attention mechanism which is then used by the decoder to predict the next word in the sentence. The below picture and formulas are an example of attention mechanism from [Luong's paper](https://arxiv.org/abs/1508.04025v5). \n",
    "\n",
    "<img src=\"https://www.tensorflow.org/images/seq2seq/attention_mechanism.jpg\" width=\"500\" alt=\"attention mechanism\">\n",
    "\n",
    "The input is put through an encoder model which gives us the encoder output of shape *(batch_size, max_length, hidden_size)* and the encoder hidden state of shape *(batch_size, hidden_size)*.\n",
    "\n",
    "Here are the equations that are implemented:\n",
    "\n",
    "<img src=\"https://www.tensorflow.org/images/seq2seq/attention_equation_0.jpg\" alt=\"attention equation 0\" width=\"800\">\n",
    "<img src=\"https://www.tensorflow.org/images/seq2seq/attention_equation_1.jpg\" alt=\"attention equation 1\" width=\"800\">\n",
    "\n",
    "This tutorial uses [Bahdanau attention](https://arxiv.org/pdf/1409.0473.pdf) for the encoder. Let's decide on notation before writing the simplified form:\n",
    "\n",
    "* FC = Fully connected (dense) layer\n",
    "* EO = Encoder output\n",
    "* H = hidden state\n",
    "* X = input to the decoder\n",
    "\n",
    "And the pseudo-code:\n",
    "\n",
    "* `score = FC(tanh(FC(EO) + FC(H)))`\n",
    "* `attention weights = softmax(score, axis = 1)`. Softmax by default is applied on the last axis but here we want to apply it on the *1st axis*, since the shape of score is *(batch_size, max_length, hidden_size)*. `Max_length` is the length of our input. Since we are trying to assign a weight to each input, softmax should be applied on that axis.\n",
    "* `context vector = sum(attention weights * EO, axis = 1)`. Same reason as above for choosing axis as 1.\n",
    "* `embedding output` = The input to the decoder X is passed through an embedding layer.\n",
    "* `merged vector = concat(embedding output, context vector)`\n",
    "* This merged vector is then given to the GRU\n",
    "\n",
    "The shapes of all the vectors at each step have been specified in the comments in the code:"
   ]
  },
  {
   "cell_type": "code",
   "execution_count": 21,
   "metadata": {
    "id": "nZ2rI24i3jFg"
   },
   "outputs": [],
   "source": [
    "class Encoder(tf.keras.Model):\n",
    "    def __init__(self, vocab_size, embedding_dim, enc_units, batch_sz, bidir):\n",
    "        super(Encoder, self).__init__()\n",
    "        self.batch_sz = batch_sz\n",
    "        self.enc_units = enc_units\n",
    "        self.bidir = bidir\n",
    "        self.embedding = tf.keras.layers.Embedding(vocab_size, embedding_dim, name='Encoder_Embedding')\n",
    "        self.gru = tf.keras.layers.GRU(self.enc_units,\n",
    "                                       return_sequences=True,\n",
    "                                       return_state=True,\n",
    "                                       recurrent_initializer='glorot_uniform',\n",
    "                                       name='Encoder_GRU')\n",
    "        if bidir:\n",
    "            self.bidir_gru = tf.keras.layers.Bidirectional(self.gru, name='Encoder_BidirGRU')\n",
    "\n",
    "    def call(self, x, hidden):\n",
    "        x = self.embedding(x)\n",
    "        if not self.bidir:\n",
    "            output, state = self.gru(x, initial_state = hidden)\n",
    "        else:\n",
    "            hidden = [hidden, hidden]\n",
    "            output, forward_state, reverse_state = self.bidir_gru(x, initial_state = hidden)\n",
    "            state = tf.concat([forward_state, reverse_state], axis=1)\n",
    "        return output, state\n",
    "\n",
    "    def initialize_hidden_state(self):\n",
    "        return tf.zeros((self.batch_sz, self.enc_units))"
   ]
  },
  {
   "cell_type": "code",
   "execution_count": 22,
   "metadata": {
    "id": "60gSVh05Jl6l"
   },
   "outputs": [],
   "source": [
    "encoder = Encoder(vocab_inp_size, embedding_dim, units, BATCH_SIZE, bidir)"
   ]
  },
  {
   "cell_type": "code",
   "execution_count": 23,
   "metadata": {
    "id": "umohpBN2OM94"
   },
   "outputs": [],
   "source": [
    "class BahdanauAttention(tf.keras.layers.Layer):\n",
    "    def __init__(self, units, bidir):\n",
    "        super(BahdanauAttention, self).__init__()\n",
    "        self.W1 = tf.keras.layers.Dense(units, name='Attn_W1')\n",
    "        self.W2 = tf.keras.layers.Dense(units, name='Attn_W2')\n",
    "        self.V = tf.keras.layers.Dense(1, name='Attn_V')\n",
    "        self.bidir = bidir\n",
    "\n",
    "    def call(self, query, values):\n",
    "        # query hidden state shape == (batch_size, hidden size)\n",
    "        # query_with_time_axis shape == (batch_size, 1, hidden size)\n",
    "        # values shape == (batch_size, max_len, hidden size)\n",
    "        # we are doing this to broadcast addition along the time axis to calculate the score\n",
    "        query_with_time_axis = tf.expand_dims(query, 1)\n",
    "\n",
    "        # score shape == (batch_size, max_length, 1)\n",
    "        # we get 1 at the last axis because we are applying score to self.V\n",
    "        # the shape of the tensor before applying self.V is (batch_size, max_length, units)\n",
    "        score = self.V(tf.nn.tanh(\n",
    "            self.W1(query_with_time_axis) + self.W2(values)))\n",
    "\n",
    "        # attention_weights shape == (batch_size, max_length, 1)\n",
    "        attention_weights = tf.nn.softmax(score, axis=1)\n",
    "\n",
    "        # context_vector shape after sum == (batch_size, hidden_size)\n",
    "        context_vector = attention_weights * values\n",
    "        context_vector = tf.reduce_sum(context_vector, axis=1)\n",
    "\n",
    "        return context_vector, attention_weights"
   ]
  },
  {
   "cell_type": "code",
   "execution_count": 24,
   "metadata": {
    "id": "yJ_B3mhW3jFk"
   },
   "outputs": [],
   "source": [
    "class Decoder(tf.keras.Model):\n",
    "    def __init__(self, vocab_size, embedding_dim, dec_units, batch_sz, bidir):\n",
    "        super(Decoder, self).__init__()\n",
    "        self.batch_sz = batch_sz\n",
    "        self.dec_units = dec_units\n",
    "        self.bidir = bidir\n",
    "        self.embedding = tf.keras.layers.Embedding(vocab_size, embedding_dim, name='Decoder_Embedding')\n",
    "        self.gru = tf.keras.layers.GRU(self.dec_units,\n",
    "                                       return_sequences=True,\n",
    "                                       return_state=True,\n",
    "                                       recurrent_initializer='glorot_uniform',\n",
    "                                       name='Decoder_GRU')\n",
    "        if bidir:\n",
    "            self.bidir_gru = tf.keras.layers.Bidirectional(self.gru, name='Decoder_BidirGRU')\n",
    "        self.fc = tf.keras.layers.Dense(vocab_size, name='Decoder_FC')\n",
    "\n",
    "        # used for attention\n",
    "        self.attention = BahdanauAttention(self.dec_units, self.bidir)\n",
    "\n",
    "    def call(self, x, hidden, enc_output):\n",
    "        # enc_output shape == (batch_size, max_length, hidden_size)\n",
    "        context_vector, attention_weights = self.attention(hidden, enc_output)\n",
    "\n",
    "        # x shape after passing through embedding == (batch_size, 1, embedding_dim)\n",
    "        x = self.embedding(x)\n",
    "\n",
    "        # x shape after concatenation == (batch_size, 1, embedding_dim + hidden_size)\n",
    "        x = tf.concat([tf.expand_dims(context_vector, 1), x], axis=-1)\n",
    "\n",
    "        # passing the concatenated vector to the GRU\n",
    "        if not self.bidir:\n",
    "            output, state = self.gru(x)\n",
    "        else:\n",
    "            output, forward_state, reverse_state = self.bidir_gru(x)\n",
    "            state = tf.concat([forward_state, reverse_state], axis=1)\n",
    "\n",
    "        # output shape == (batch_size * 1, hidden_size)\n",
    "        output = tf.reshape(output, (-1, output.shape[2]))\n",
    "\n",
    "        # output shape == (batch_size, vocab)\n",
    "        x = self.fc(output)\n",
    "\n",
    "        return x, state, attention_weights"
   ]
  },
  {
   "cell_type": "code",
   "execution_count": 25,
   "metadata": {
    "id": "P5UY8wko3jFp"
   },
   "outputs": [],
   "source": [
    "decoder = Decoder(vocab_tar_size, embedding_dim, units, BATCH_SIZE, bidir)"
   ]
  },
  {
   "cell_type": "markdown",
   "metadata": {
    "id": "_ch_71VbIRfK"
   },
   "source": [
    "## Define the optimizer and the loss function"
   ]
  },
  {
   "cell_type": "code",
   "execution_count": 26,
   "metadata": {
    "id": "WmTHr5iV3jFr"
   },
   "outputs": [],
   "source": [
    "optimizer = tf.keras.optimizers.Adam()\n",
    "loss_object = tf.keras.losses.SparseCategoricalCrossentropy(\n",
    "    from_logits=True, reduction='none')\n",
    "\n",
    "def loss_function(real, pred):\n",
    "    # Mask whitespace first\n",
    "    mask = tf.math.logical_not(tf.math.equal(real, Mappings.char_to_int[' ']))\n",
    "    loss_ = loss_object(real, pred)\n",
    "\n",
    "    mask = tf.cast(mask, dtype=loss_.dtype)\n",
    "    loss_ *= mask\n",
    "\n",
    "    return tf.reduce_mean(loss_)"
   ]
  },
  {
   "cell_type": "markdown",
   "metadata": {
    "id": "DMVWzzsfNl4e"
   },
   "source": [
    "## Checkpoints (Object-based saving)"
   ]
  },
  {
   "cell_type": "code",
   "execution_count": 45,
   "metadata": {
    "id": "Zj8bXQTgNwrF"
   },
   "outputs": [],
   "source": [
    "checkpoint_dir = './training_checkpoints_curriculum'\n",
    "if Config.reverse:\n",
    "    checkpoint_dir += '_reverse'\n",
    "\n",
    "checkpoint_prefix = os.path.join(checkpoint_dir, \"ckpt\")\n",
    "checkpoint = tf.train.Checkpoint(optimizer=optimizer,\n",
    "                                 encoder=encoder,\n",
    "                                 decoder=decoder)"
   ]
  },
  {
   "cell_type": "markdown",
   "metadata": {
    "id": "hpObfY22IddU"
   },
   "source": [
    "## Curriculum training\n",
    "- Start with the one_nonzero training set and go through the following steps.\n",
    "- Repeat for two_nonzero training set\n",
    "- Repeat for three_nonzero training set\n",
    "\n",
    "### General training steps\n",
    "1. Pass the *input* through the *encoder* which return *encoder output* and the *encoder hidden state*.\n",
    "2. The encoder output, encoder hidden state and the decoder input (which is the *start token*) is passed to the decoder.\n",
    "3. The decoder returns the *predictions* and the *decoder hidden state*.\n",
    "4. The decoder hidden state is then passed back into the model and the predictions are used to calculate the loss.\n",
    "5. Use *teacher forcing* to decide the next input to the decoder.\n",
    "6. *Teacher forcing* is the technique where the *target word* is passed as the *next input* to the decoder.\n",
    "7. The final step is to calculate the gradients and apply it to the optimizer and backpropagate."
   ]
  },
  {
   "cell_type": "code",
   "execution_count": 39,
   "metadata": {
    "id": "sC9ArXSsVfqn"
   },
   "outputs": [],
   "source": [
    "@tf.function\n",
    "def train_step(inp, targ, enc_hidden):\n",
    "    loss = 0\n",
    "\n",
    "    with tf.GradientTape() as tape:\n",
    "        enc_output, enc_hidden = encoder(inp, enc_hidden)\n",
    "        # print(f'enc_output.shape = {enc_output.shape}')\n",
    "        # print(f'enc_hidden.shape = {enc_hidden.shape}')\n",
    "\n",
    "        dec_hidden = enc_hidden\n",
    "\n",
    "        dec_input = tf.expand_dims([Mappings.char_to_int['\\t']] * BATCH_SIZE, 1)\n",
    "        dec_input = tf.dtypes.cast(dec_input, tf.float32)\n",
    "        # print(f'dec_input.shape = {dec_input.shape}')\n",
    "\n",
    "        # Teacher forcing - feeding the target as the next input\n",
    "        for t in range(1, targ.shape[1]):\n",
    "            # passing enc_output to the decoder\n",
    "            predictions, dec_hidden, _ = decoder(dec_input, dec_hidden, enc_output)\n",
    "            # print(f'predictions.shape = {predictions.shape}')\n",
    "            # print(f'dec_hidden.shape = {dec_hidden.shape}')\n",
    "\n",
    "            loss += loss_function(targ[:, t], predictions)\n",
    "\n",
    "            # using teacher forcing\n",
    "            dec_input = tf.expand_dims(targ[:, t], 1)\n",
    "\n",
    "    batch_loss = (loss / int(targ.shape[1]))\n",
    "\n",
    "    variables = encoder.trainable_variables + decoder.trainable_variables\n",
    "\n",
    "    gradients = tape.gradient(loss, variables)\n",
    "\n",
    "    optimizer.apply_gradients(zip(gradients, variables))\n",
    "\n",
    "    return batch_loss"
   ]
  },
  {
   "cell_type": "code",
   "execution_count": 40,
   "metadata": {
    "colab": {
     "base_uri": "https://localhost:8080/",
     "height": 477
    },
    "id": "ddefjBMa3jF0",
    "outputId": "1d76d8e3-66e3-4d2a-aff2-00751c9a688c"
   },
   "outputs": [
    {
     "name": "stdout",
     "output_type": "stream",
     "text": [
      "Begin curriculum training\n",
      "Reversed y in training set\n",
      "Training with 1 nonzero terms\n",
      "\n",
      "Epoch 1 Loss 0.0057\n",
      "Time taken for 1 epoch 5.7587690353393555 sec\n",
      "\n",
      "Epoch 2 Loss 0.0082\n",
      "Time taken for 1 epoch 0.36271095275878906 sec\n",
      "\n",
      "Epoch 3 Loss 0.0094\n",
      "Time taken for 1 epoch 0.28145813941955566 sec\n",
      "\n",
      "Epoch 4 Loss 0.0101\n",
      "Time taken for 1 epoch 0.35988616943359375 sec\n",
      "\n",
      "Epoch 5 Loss 0.0106\n",
      "Time taken for 1 epoch 0.2576899528503418 sec\n",
      "\n",
      "Epoch 6 Loss 0.0110\n",
      "Time taken for 1 epoch 0.3625829219818115 sec\n",
      "\n",
      "Epoch 7 Loss 0.0114\n",
      "Time taken for 1 epoch 0.2603609561920166 sec\n",
      "\n",
      "Epoch 8 Loss 0.0117\n",
      "Time taken for 1 epoch 0.35771989822387695 sec\n",
      "\n",
      "Epoch 9 Loss 0.0120\n",
      "Time taken for 1 epoch 0.25440120697021484 sec\n",
      "\n",
      "Epoch 10 Loss 0.0123\n",
      "Time taken for 1 epoch 0.3604869842529297 sec\n",
      "\n",
      "========================================\n",
      "Training with 2 nonzero terms\n",
      "\n",
      "Epoch 1 Loss 0.0565\n",
      "Time taken for 1 epoch 26.791308879852295 sec\n",
      "\n",
      "Epoch 2 Loss 0.0890\n",
      "Time taken for 1 epoch 48.84381699562073 sec\n",
      "\n",
      "Epoch 3 Loss 0.1204\n",
      "Time taken for 1 epoch 44.75803804397583 sec\n",
      "\n",
      "Epoch 4 Loss 0.1514\n",
      "Time taken for 1 epoch 43.762518882751465 sec\n",
      "\n",
      "Epoch 5 Loss 0.1823\n",
      "Time taken for 1 epoch 40.621124029159546 sec\n",
      "\n",
      "Epoch 6 Loss 0.2130\n",
      "Time taken for 1 epoch 37.014511823654175 sec\n",
      "\n",
      "Epoch 7 Loss 0.2436\n",
      "Time taken for 1 epoch 42.275115966796875 sec\n",
      "\n",
      "Epoch 8 Loss 0.2741\n",
      "Time taken for 1 epoch 45.154080867767334 sec\n",
      "\n",
      "Epoch 9 Loss 0.3046\n",
      "Time taken for 1 epoch 41.08032274246216 sec\n",
      "\n",
      "Epoch 10 Loss 0.3350\n",
      "Time taken for 1 epoch 42.56127715110779 sec\n",
      "\n",
      "========================================\n",
      "Training with 3 nonzero terms\n",
      "\n",
      "Epoch 1 Loss 1.3762\n",
      "Time taken for 1 epoch 1944.8375511169434 sec\n",
      "\n",
      "Epoch 2 Loss 2.4142\n",
      "Time taken for 1 epoch 1360.3267481327057 sec\n",
      "\n",
      "Epoch 3 Loss 3.4510\n",
      "Time taken for 1 epoch 1114.467345237732 sec\n",
      "\n",
      "Epoch 4 Loss 4.4887\n",
      "Time taken for 1 epoch 1000.4244980812073 sec\n",
      "\n",
      "Epoch 5 Loss 5.5248\n",
      "Time taken for 1 epoch 975.8115572929382 sec\n",
      "\n",
      "Epoch 6 Loss 6.5628\n",
      "Time taken for 1 epoch 996.6594972610474 sec\n",
      "\n",
      "Epoch 7 Loss 7.5981\n",
      "Time taken for 1 epoch 1003.3891248703003 sec\n",
      "\n",
      "Epoch 8 Loss 8.6330\n",
      "Time taken for 1 epoch 1004.8586730957031 sec\n",
      "\n",
      "Epoch 9 Loss 9.6680\n",
      "Time taken for 1 epoch 1013.0858950614929 sec\n",
      "\n",
      "Epoch 10 Loss 10.7029\n",
      "Time taken for 1 epoch 1003.69690990448 sec\n",
      "\n",
      "========================================\n"
     ]
    }
   ],
   "source": [
    "EPOCHS = 10\n",
    "\n",
    "curr_ds = [train_one_nonzero_ds, train_two_nonzero_ds, train_three_nonzero_ds]\n",
    "\n",
    "print(f'Begin curriculum training')\n",
    "if Config.reverse:\n",
    "    print('Reversed y in training set')\n",
    "\n",
    "# Initial values\n",
    "enc_hidden = encoder.initialize_hidden_state()\n",
    "total_loss = 0\n",
    "\n",
    "for i, ds in enumerate(curr_ds):\n",
    "    print(f'Training with {i+1} nonzero terms\\n')\n",
    "    for epoch in range(EPOCHS):\n",
    "        start = time.time()\n",
    "\n",
    "        for (batch, (inp, targ)) in enumerate(ds.take(steps_per_epoch)):\n",
    "            if Config.reverse:\n",
    "                targ = np.flip(targ)\n",
    "            batch_loss = train_step(inp, targ, enc_hidden)\n",
    "            total_loss += batch_loss\n",
    "\n",
    "        # saving (checkpoint) the model every 2 epochs\n",
    "        if (epoch + 1) % 2 == 0:\n",
    "            checkpoint.save(file_prefix = checkpoint_prefix)\n",
    "\n",
    "        print('Epoch {} Loss {:.4f}'.format(epoch + 1,\n",
    "                                      total_loss / steps_per_epoch))\n",
    "        print('Time taken for 1 epoch {} sec\\n'.format(time.time() - start))\n",
    "    print('='*40)"
   ]
  },
  {
   "cell_type": "markdown",
   "metadata": {
    "id": "mU3Ce8M6I3rz"
   },
   "source": [
    "## Translate\n",
    "\n",
    "* The evaluate function is similar to the training loop, except we don't use *teacher forcing* here. The input to the decoder at each time step is its previous predictions along with the hidden state and the encoder output.\n",
    "* Stop predicting when the model predicts the *end token*.\n",
    "* And store the *attention weights for every time step*.\n",
    "\n",
    "Note: The encoder output is calculated only once for one input."
   ]
  },
  {
   "cell_type": "code",
   "execution_count": 42,
   "metadata": {
    "id": "EbQpyYs13jF_"
   },
   "outputs": [],
   "source": [
    "def evaluate(sentence):\n",
    "    attention_plot = np.zeros((max_length_targ, max_length_inp))\n",
    "\n",
    "    # Preprocess the input\n",
    "    if isinstance(sentence, str):\n",
    "        inputs = [Mappings.char_to_int[i] for i in sentence]\n",
    "    else:\n",
    "        inputs = sentence\n",
    "    inputs = np.array(inputs).reshape(1, -1)\n",
    "    inputs = tf.convert_to_tensor(inputs)\n",
    "\n",
    "    # Start with a blank result\n",
    "    result = ''\n",
    "\n",
    "    # Initial hidden state is zeros\n",
    "    hidden = tf.zeros((1, units))\n",
    "\n",
    "    # Encode the input\n",
    "    enc_out, enc_hidden = encoder(inputs, hidden)\n",
    "\n",
    "    # Use the encoder's final hidden state as the dec's initial hidden state\n",
    "    dec_hidden = enc_hidden\n",
    "  \n",
    "    # Start by feeding the decoder the starting character \n",
    "    dec_input = tf.expand_dims([Mappings.char_to_int['\\t']], 0)\n",
    "\n",
    "    for t in range(max_length_targ):\n",
    "        # Continually decode the current result, and store the attention weights for plotting\n",
    "        predictions, dec_hidden, attention_weights = decoder(dec_input, dec_hidden, enc_out)\n",
    "\n",
    "        # storing the attention weights to plot later on\n",
    "        attention_weights = tf.reshape(attention_weights, (-1, ))\n",
    "        attention_plot[t] = attention_weights.numpy()\n",
    "\n",
    "        predicted_id = tf.argmax(predictions[0]).numpy()\n",
    "\n",
    "        result += Mappings.int_to_char[predicted_id]\n",
    "\n",
    "        if predicted_id == Mappings.char_to_int['\\n']:\n",
    "            return result, sentence, attention_plot\n",
    "\n",
    "        # the predicted ID is fed back into the model\n",
    "        dec_input = tf.expand_dims([predicted_id], 0)\n",
    "\n",
    "    return result, sentence, attention_plot"
   ]
  },
  {
   "cell_type": "code",
   "execution_count": 43,
   "metadata": {
    "id": "s5hQWlbN3jGF"
   },
   "outputs": [],
   "source": [
    "# function for plotting the attention weights\n",
    "def plot_attention(attention, sentence, predicted_sentence):\n",
    "    fig = plt.figure(figsize=(10,10))\n",
    "    ax = fig.add_subplot(1, 1, 1)\n",
    "    ax.matshow(attention, cmap='Reds')\n",
    "\n",
    "    fontdict = {'fontsize': 14}\n",
    "    sentence = list(sentence)\n",
    "    # Appending a \\n doesn't jive with padding, need to fix this\n",
    "    sentence[-1] = r'\\n'\n",
    "    predicted_sentence = list(predicted_sentence)\n",
    "    predicted_sentence[-1] = r'\\n'\n",
    "\n",
    "    xticks = [''] + sentence\n",
    "    yticks = [''] + predicted_sentence\n",
    "    ax.set_xticklabels(xticks, fontdict=fontdict)\n",
    "    ax.set_yticklabels(yticks, fontdict=fontdict)\n",
    "\n",
    "    ax.xaxis.set_major_locator(ticker.MultipleLocator(1))\n",
    "    ax.yaxis.set_major_locator(ticker.MultipleLocator(1))\n",
    "\n",
    "    plt.show()"
   ]
  },
  {
   "cell_type": "code",
   "execution_count": 44,
   "metadata": {
    "id": "sl9zUHzg3jGI"
   },
   "outputs": [],
   "source": [
    "def translate(sentence):\n",
    "    result, sentence, attention_plot = evaluate(sentence)\n",
    "\n",
    "    print('Input: %s' % (sentence))\n",
    "    print('Predicted translation: {}'.format(result))\n",
    "\n",
    "    # attention_plot = attention_plot[:len(result), :len(sentence)]\n",
    "    plot_attention(attention_plot, sentence, result)"
   ]
  },
  {
   "cell_type": "markdown",
   "metadata": {
    "id": "n250XbnjOaqP"
   },
   "source": [
    "## Restore the latest checkpoint and test"
   ]
  },
  {
   "cell_type": "code",
   "execution_count": 55,
   "metadata": {
    "id": "UJpT9D5_OgP6"
   },
   "outputs": [
    {
     "data": {
      "text/plain": [
       "<tensorflow.python.training.tracking.util.CheckpointLoadStatus at 0x149efbac0>"
      ]
     },
     "execution_count": 55,
     "metadata": {},
     "output_type": "execute_result"
    }
   ],
   "source": [
    "# restoring the latest checkpoint in checkpoint_dir\n",
    "checkpoint.restore(tf.train.latest_checkpoint(checkpoint_dir))"
   ]
  },
  {
   "cell_type": "code",
   "execution_count": 33,
   "metadata": {
    "id": "HF0Y_DQtHiEu"
   },
   "outputs": [],
   "source": [
    "def generate_example_plot(input=None, idx=None):\n",
    "    output = None\n",
    "    if idx is None and input is None:\n",
    "        idx = np.random.randint(X_test.shape[1])\n",
    "    if input is None:\n",
    "        input = X_test[idx]\n",
    "        output = y_test[idx]\n",
    "    if not isinstance(input, str):\n",
    "        test_input = ''.join([decode(x) for x in input])\n",
    "    else:\n",
    "        test_input = input\n",
    "    translate(test_input)\n",
    "\n",
    "    if output is not None:\n",
    "        print(f'Actual: {\"\".join([decode(x) for x in output]).strip()}')"
   ]
  },
  {
   "cell_type": "code",
   "execution_count": 34,
   "metadata": {
    "id": "WrAM0FDomq3E"
   },
   "outputs": [
    {
     "name": "stdout",
     "output_type": "stream",
     "text": [
      "Input: 70+0+0\n",
      "  \n",
      "Predicted translation: 71\n",
      "\n"
     ]
    },
    {
     "name": "stderr",
     "output_type": "stream",
     "text": [
      "<ipython-input-30-c1de69a79c6e>:16: UserWarning: FixedFormatter should only be used together with FixedLocator\n",
      "  ax.set_xticklabels(xticks, fontdict=fontdict)\n",
      "<ipython-input-30-c1de69a79c6e>:17: UserWarning: FixedFormatter should only be used together with FixedLocator\n",
      "  ax.set_yticklabels(yticks, fontdict=fontdict)\n"
     ]
    },
    {
     "data": {
      "image/png": "[encoded data removed]",
      "text/plain": [
       "<Figure size 720x720 with 1 Axes>"
      ]
     },
     "metadata": {
      "needs_background": "light"
     },
     "output_type": "display_data"
    }
   ],
   "source": [
    "generate_example_plot(one_nonzero_X[0])"
   ]
  },
  {
   "cell_type": "markdown",
   "metadata": {},
   "source": [
    "## Plot on all sums\n",
    "\n",
    "Generate predictions for all possible sums and save the results."
   ]
  },
  {
   "cell_type": "code",
   "execution_count": 56,
   "metadata": {},
   "outputs": [],
   "source": [
    "X_all = np.vstack([X_train, X_test])\n",
    "y_all = np.vstack([y_train, y_test])"
   ]
  },
  {
   "cell_type": "code",
   "execution_count": 57,
   "metadata": {},
   "outputs": [
    {
     "data": {
      "text/plain": [
       "((1000000, 9), (1000000, 5))"
      ]
     },
     "execution_count": 57,
     "metadata": {},
     "output_type": "execute_result"
    }
   ],
   "source": [
    "X_all.shape, y_all.shape"
   ]
  },
  {
   "cell_type": "code",
   "execution_count": 59,
   "metadata": {},
   "outputs": [
    {
     "name": "stdout",
     "output_type": "stream",
     "text": [
      "100000/1000000\n",
      "87.0% correct\n",
      "--------------------\n",
      "200000/1000000\n",
      "43.5% correct\n",
      "--------------------\n",
      "300000/1000000\n",
      "29.0% correct\n",
      "--------------------\n",
      "400000/1000000\n",
      "21.7% correct\n",
      "--------------------\n",
      "500000/1000000\n",
      "17.4% correct\n",
      "--------------------\n",
      "600000/1000000\n",
      "14.5% correct\n",
      "--------------------\n",
      "700000/1000000\n",
      "12.4% correct\n",
      "--------------------\n",
      "800000/1000000\n",
      "10.8% correct\n",
      "--------------------\n",
      "900000/1000000\n",
      "9.7% correct\n",
      "--------------------\n"
     ]
    }
   ],
   "source": [
    "preds_fname = f'basic_addition_{Config.n_terms}term_{Config.n_digits}dig_{Config.encoder_units}units_curriculum'\n",
    "if Config.reverse:\n",
    "    preds_fname += '_reverse'\n",
    "\n",
    "correct_buffer = []\n",
    "incorrect_buffer = []\n",
    "\n",
    "for i in range(X_all.shape[0]):\n",
    "    if i > 0 and i % int(0.1 * X_all.shape[0]) == 0:\n",
    "        print(f'{i}/{X_all.shape[0]}')\n",
    "        print(f'{100*len(correct_buffer)/i:.1f}% correct')\n",
    "        print('-'*20)\n",
    "        list_to_csv(correct_buffer, preds_fname + '_correct.csv', headers='X_true, y_true')\n",
    "        list_to_csv(incorrect_buffer, preds_fname + '_incorrect.csv', headers='X_true, y_pred, y_true')\n",
    "        correct_buffer = []\n",
    "        incorrect_buffer = []\n",
    "    pred, _, _ = evaluate(X_all[i])\n",
    "    if Config.reverse:\n",
    "        y_true = ''.join(decode(n) for n in np.flip(y_all[i]))\n",
    "    else:\n",
    "        y_true = ''.join(decode(n) for n in y_all[i])\n",
    "    y_true_val = int(re.search(r'\\d+', y_true).group(0))\n",
    "    pred_val = int(re.search(r'\\d+', pred).group(0))\n",
    "    X_pattern = r'\\+'.join([r'\\d+' for _ in range(Config.n_terms)])\n",
    "    X_true = ''.join(decode(c) for c in X_all[i])\n",
    "    # todo: Hack to support variable number of terms, fix this by proper striping/replacing\n",
    "    if re.search(X_pattern, X_true) is not None:\n",
    "        X_true_cleaned = re.search(X_pattern, X_true).group(0)\n",
    "    else:\n",
    "        X_true_cleaned = re.search(r'\\d+\\+\\d+', X_true).group(0)\n",
    "    if y_true_val == pred_val:\n",
    "        correct_buffer.append(f'{X_true_cleaned}, {y_true_val}')\n",
    "    else:\n",
    "        incorrect_buffer.append(f'{X_true_cleaned}, {pred_val}, {y_true_val}')"
   ]
  },
  {
   "cell_type": "markdown",
   "metadata": {
    "id": "E62256nsboMS"
   },
   "source": [
    "## Test set results"
   ]
  },
  {
   "cell_type": "code",
   "execution_count": 127,
   "metadata": {
    "id": "NPoGWEuIwzER"
   },
   "outputs": [
    {
     "name": "stdout",
     "output_type": "stream",
     "text": [
      "Actual = 258, result = 259\n",
      "Actual = 49, result = 50\n",
      "Actual = 209, result = 210\n",
      "Actual = 66, result = 67\n",
      "Actual = 201, result = 202\n",
      "Actual = 91, result = 90\n",
      "Actual = 101, result = 102\n",
      "Actual = 188, result = 189\n",
      "Actual = 251, result = 252\n",
      "Actual = 157, result = 158\n",
      "Actual = 234, result = 235\n"
     ]
    }
   ],
   "source": [
    "correct_cnt = 0\n",
    "incorrect_attn_plots = dict()\n",
    "\n",
    "for x, y in zip(X_test[:100], y_test[:100]):\n",
    "    input = ''.join([decode(i) for i in x])\n",
    "    result, sentence, attention_plot = evaluate(input)\n",
    "    result = result.strip()\n",
    "    actual = ''.join([decode(i) for i in y]).strip()\n",
    "    if result == actual:\n",
    "        correct_cnt += 1\n",
    "    else:\n",
    "        incorrect_attn_plots[(input, result, actual)] = attention_plot\n",
    "        print(f'Actual = {actual}, result = {result}')"
   ]
  },
  {
   "cell_type": "code",
   "execution_count": 128,
   "metadata": {
    "id": "nq0_WdG6fiH9"
   },
   "outputs": [
    {
     "name": "stdout",
     "output_type": "stream",
     "text": [
      "input = 73+92+93, result = 259, actual = 258\n"
     ]
    },
    {
     "name": "stderr",
     "output_type": "stream",
     "text": [
      "<ipython-input-115-c1de69a79c6e>:16: UserWarning: FixedFormatter should only be used together with FixedLocator\n",
      "  ax.set_xticklabels(xticks, fontdict=fontdict)\n",
      "<ipython-input-115-c1de69a79c6e>:17: UserWarning: FixedFormatter should only be used together with FixedLocator\n",
      "  ax.set_yticklabels(yticks, fontdict=fontdict)\n"
     ]
    },
    {
     "data": {
      "image/png": "[encoded data removed]",
      "text/plain": [
       "<Figure size 720x720 with 1 Axes>"
      ]
     },
     "metadata": {
      "needs_background": "light"
     },
     "output_type": "display_data"
    },
    {
     "name": "stdout",
     "output_type": "stream",
     "text": [
      "====================================================================================================\n",
      "input = 4+38+7, result = 50, actual = 49\n"
     ]
    },
    {
     "data": {
      "image/png": "[encoded data removed]",
      "text/plain": [
       "<Figure size 720x720 with 1 Axes>"
      ]
     },
     "metadata": {
      "needs_background": "light"
     },
     "output_type": "display_data"
    },
    {
     "name": "stdout",
     "output_type": "stream",
     "text": [
      "====================================================================================================\n",
      "input = 54+76+79, result = 210, actual = 209\n"
     ]
    },
    {
     "data": {
      "image/png": "[encoded data removed]",
      "text/plain": [
       "<Figure size 720x720 with 1 Axes>"
      ]
     },
     "metadata": {
      "needs_background": "light"
     },
     "output_type": "display_data"
    },
    {
     "name": "stdout",
     "output_type": "stream",
     "text": [
      "====================================================================================================\n",
      "input = 8+50+8, result = 67, actual = 66\n"
     ]
    },
    {
     "data": {
      "image/png": "[encoded data removed]",
      "text/plain": [
       "<Figure size 720x720 with 1 Axes>"
      ]
     },
     "metadata": {
      "needs_background": "light"
     },
     "output_type": "display_data"
    },
    {
     "name": "stdout",
     "output_type": "stream",
     "text": [
      "====================================================================================================\n",
      "input = 92+97+12, result = 202, actual = 201\n"
     ]
    },
    {
     "data": {
      "image/png": "[encoded data removed]",
      "text/plain": [
       "<Figure size 720x720 with 1 Axes>"
      ]
     },
     "metadata": {
      "needs_background": "light"
     },
     "output_type": "display_data"
    },
    {
     "name": "stdout",
     "output_type": "stream",
     "text": [
      "====================================================================================================\n",
      "input = 75+7+9, result = 90, actual = 91\n"
     ]
    },
    {
     "data": {
      "image/png": "[encoded data removed]",
      "text/plain": [
       "<Figure size 720x720 with 1 Axes>"
      ]
     },
     "metadata": {
      "needs_background": "light"
     },
     "output_type": "display_data"
    },
    {
     "name": "stdout",
     "output_type": "stream",
     "text": [
      "====================================================================================================\n",
      "input = 10+11+80, result = 102, actual = 101\n"
     ]
    },
    {
     "data": {
      "image/png": "[encoded data removed]",
      "text/plain": [
       "<Figure size 720x720 with 1 Axes>"
      ]
     },
     "metadata": {
      "needs_background": "light"
     },
     "output_type": "display_data"
    },
    {
     "name": "stdout",
     "output_type": "stream",
     "text": [
      "====================================================================================================\n",
      "input = 64+77+47, result = 189, actual = 188\n"
     ]
    },
    {
     "data": {
      "image/png": "[encoded data removed]",
      "text/plain": [
       "<Figure size 720x720 with 1 Axes>"
      ]
     },
     "metadata": {
      "needs_background": "light"
     },
     "output_type": "display_data"
    },
    {
     "name": "stdout",
     "output_type": "stream",
     "text": [
      "====================================================================================================\n",
      "input = 74+84+93, result = 252, actual = 251\n"
     ]
    },
    {
     "data": {
      "image/png": "[encoded data removed]",
      "text/plain": [
       "<Figure size 720x720 with 1 Axes>"
      ]
     },
     "metadata": {
      "needs_background": "light"
     },
     "output_type": "display_data"
    },
    {
     "name": "stdout",
     "output_type": "stream",
     "text": [
      "====================================================================================================\n",
      "input = 16+77+64, result = 158, actual = 157\n"
     ]
    },
    {
     "data": {
      "image/png": "[encoded data removed]",
      "text/plain": [
       "<Figure size 720x720 with 1 Axes>"
      ]
     },
     "metadata": {
      "needs_background": "light"
     },
     "output_type": "display_data"
    },
    {
     "name": "stdout",
     "output_type": "stream",
     "text": [
      "====================================================================================================\n",
      "input = 74+85+75, result = 235, actual = 234\n"
     ]
    },
    {
     "data": {
      "image/png": "[encoded data removed]",
      "text/plain": [
       "<Figure size 720x720 with 1 Axes>"
      ]
     },
     "metadata": {
      "needs_background": "light"
     },
     "output_type": "display_data"
    },
    {
     "name": "stdout",
     "output_type": "stream",
     "text": [
      "====================================================================================================\n"
     ]
    }
   ],
   "source": [
    "for k, attention_plot in incorrect_attn_plots.items():\n",
    "    sentence, result, actual = k\n",
    "    print(f'input = {sentence.strip()}, result = {result}, actual = {actual}')\n",
    "    plot_attention(attention_plot, sentence, result)\n",
    "    print('='*100)"
   ]
  },
  {
   "cell_type": "code",
   "execution_count": 32,
   "metadata": {
    "id": "Vug5BLqeia-O"
   },
   "outputs": [
    {
     "name": "stdout",
     "output_type": "stream",
     "text": [
      "Input: 0+12\n",
      " \n",
      "Predicted translation: 12\n",
      "\n"
     ]
    },
    {
     "name": "stderr",
     "output_type": "stream",
     "text": [
      "<ipython-input-25-c1de69a79c6e>:16: UserWarning: FixedFormatter should only be used together with FixedLocator\n",
      "  ax.set_xticklabels(xticks, fontdict=fontdict)\n",
      "<ipython-input-25-c1de69a79c6e>:17: UserWarning: FixedFormatter should only be used together with FixedLocator\n",
      "  ax.set_yticklabels(yticks, fontdict=fontdict)\n"
     ]
    },
    {
     "data": {
      "image/png": "[encoded data removed]",
      "text/plain": [
       "<Figure size 720x720 with 1 Axes>"
      ]
     },
     "metadata": {
      "needs_background": "light"
     },
     "output_type": "display_data"
    }
   ],
   "source": [
    "generate_example_plot(input='0+12\\n ')a"
   ]
  },
  {
   "cell_type": "code",
   "execution_count": null,
   "metadata": {
    "id": "fFEwdC9Gk4YV"
   },
   "outputs": [],
   "source": []
  }
 ],
 "metadata": {
  "accelerator": "GPU",
  "colab": {
   "collapsed_sections": [],
   "name": "Seq2Seq with Attention.ipynb",
   "provenance": []
  },
  "kernelspec": {
   "display_name": "Python 3",
   "language": "python",
   "name": "python3"
  },
  "language_info": {
   "codemirror_mode": {
    "name": "ipython",
    "version": 3
   },
   "file_extension": ".py",
   "mimetype": "text/x-python",
   "name": "python",
   "nbconvert_exporter": "python",
   "pygments_lexer": "ipython3",
   "version": "3.8.5"
  }
 },
 "nbformat": 4,
 "nbformat_minor": 1
}
