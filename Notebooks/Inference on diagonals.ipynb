{
 "cells": [
  {
   "cell_type": "markdown",
   "metadata": {},
   "source": [
    "# Inference on diagonals\n",
    "\n",
    "The point of this notebook is to see how many terms \"on a diagonal\" (meaning series which all sum to the same value) the model needs to be trained on before it \"learns\" all series on the diagonal."
   ]
  },
  {
   "cell_type": "code",
   "execution_count": 4,
   "metadata": {},
   "outputs": [],
   "source": [
    "import pandas as pd\n",
    "import numpy as np\n",
    "\n",
    "import random"
   ]
  },
  {
   "cell_type": "markdown",
   "metadata": {},
   "source": [
    "## Data generation"
   ]
  },
  {
   "cell_type": "code",
   "execution_count": 5,
   "metadata": {},
   "outputs": [],
   "source": [
    "def _generate_sample_from_y(n_terms, n_digits, y):\n",
    "    # Generates a sample which sums to y (used to uniformly distribute the sums)\n",
    "    x = []\n",
    "    while len(x) < n_terms - 1:\n",
    "        # Don't allow it to pick a number causing sum(x) to exceed y, but also subject\n",
    "        # to the restriction of n_digits.\n",
    "\n",
    "        # Also, don't allow it to pick such a small number that it would be impossible\n",
    "        # for the remaining terms to be chosen to sum to y (for example, if y = 150 and\n",
    "        # n_terms = 2, n_digits = 2, we can't pick 49, or else you would need 101 to sum\n",
    "        # to y.\n",
    "        y_upper_bound = y - np.sum(x)\n",
    "        n_digits_upper_bound = 10 ** n_digits - 1\n",
    "        upper_bound = min([y_upper_bound, n_digits_upper_bound])\n",
    "        lower_bound = (y - np.sum(x) - (10 ** n_digits - 1) * (n_terms - len(x) - 1))\n",
    "        lower_bound = max([0, lower_bound])\n",
    "\n",
    "        if upper_bound > 0:\n",
    "            x.append(np.random.randint(lower_bound, upper_bound + 1))\n",
    "        else:\n",
    "            x.append(0)\n",
    "    x.append(y - np.sum(x))\n",
    "    random.shuffle(x)\n",
    "\n",
    "    return x, y"
   ]
  },
  {
   "cell_type": "code",
   "execution_count": 6,
   "metadata": {},
   "outputs": [
    {
     "data": {
      "text/plain": [
       "([7, 36, 57], 100)"
      ]
     },
     "execution_count": 6,
     "metadata": {},
     "output_type": "execute_result"
    }
   ],
   "source": [
    "_generate_sample_from_y(3, 2, 100)"
   ]
  },
  {
   "cell_type": "code",
   "execution_count": null,
   "metadata": {},
   "outputs": [],
   "source": [
    "def all_series_on_diagonal(n_terms, n_digits, y):\n",
    "    \n",
    "    X = np.zeros(shape=())"
   ]
  }
 ],
 "metadata": {
  "kernelspec": {
   "display_name": "Python 3",
   "language": "python",
   "name": "python3"
  },
  "language_info": {
   "codemirror_mode": {
    "name": "ipython",
    "version": 3
   },
   "file_extension": ".py",
   "mimetype": "text/x-python",
   "name": "python",
   "nbconvert_exporter": "python",
   "pygments_lexer": "ipython3",
   "version": "3.8.5"
  }
 },
 "nbformat": 4,
 "nbformat_minor": 4
}
