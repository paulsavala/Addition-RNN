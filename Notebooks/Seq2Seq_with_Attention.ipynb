{
 "cells": [
  {
   "cell_type": "markdown",
   "metadata": {
    "id": "J0Qjg6vuaHNt"
   },
   "source": [
    "# Neural machine translation with attention"
   ]
  },
  {
   "cell_type": "code",
   "execution_count": 1,
   "metadata": {
    "colab": {
     "base_uri": "https://localhost:8080/",
     "height": 34
    },
    "id": "tnxXKDjq3jEL",
    "outputId": "b3fd78fc-a567-4313-bfab-5a6a312b4aeb"
   },
   "outputs": [],
   "source": [
    "import tensorflow as tf\n",
    "\n",
    "import matplotlib.pyplot as plt\n",
    "import matplotlib.ticker as ticker\n",
    "from sklearn.model_selection import train_test_split\n",
    "\n",
    "import unicodedata\n",
    "import re\n",
    "import numpy as np\n",
    "import os\n",
    "import io\n",
    "import time\n",
    "from pathlib import Path"
   ]
  },
  {
   "cell_type": "markdown",
   "metadata": {
    "id": "jE0wJLpPIF42"
   },
   "source": [
    "## Load integer addition data"
   ]
  },
  {
   "cell_type": "code",
   "execution_count": 2,
   "metadata": {
    "id": "PCMJUn0qIH97"
   },
   "outputs": [],
   "source": [
    "def load(data_type, n_terms, n_digits):\n",
    "    term_dig_dir = Path(f'{n_terms}term_{n_digits}digs')\n",
    "\n",
    "    dir = Path('../Code') / Path('data') / Path(data_type) / term_dig_dir\n",
    "    X_train = np.load(dir / Path('X_train.npy'), allow_pickle=True)\n",
    "    X_test = np.load(dir / Path('X_test.npy'), allow_pickle=True)\n",
    "    y_train = np.load(dir / Path('y_train.npy'), allow_pickle=True)\n",
    "    y_test = np.load(dir / Path('y_test.npy'), allow_pickle=True)\n",
    "\n",
    "    return X_train, X_test, y_train, y_test"
   ]
  },
  {
   "cell_type": "code",
   "execution_count": 43,
   "metadata": {
    "id": "srhN7ga8Ic3V"
   },
   "outputs": [],
   "source": [
    "X_train, X_test, y_train, y_test = load('random', 3, 2)"
   ]
  },
  {
   "cell_type": "code",
   "execution_count": 4,
   "metadata": {
    "colab": {
     "base_uri": "https://localhost:8080/",
     "height": 34
    },
    "id": "4ddOWA0LSvA3",
    "outputId": "351b8758-e418-4921-d302-c453846f1e23"
   },
   "outputs": [
    {
     "data": {
      "text/plain": [
       "(7000, 6)"
      ]
     },
     "execution_count": 4,
     "metadata": {},
     "output_type": "execute_result"
    }
   ],
   "source": [
    "X_train.shape"
   ]
  },
  {
   "cell_type": "code",
   "execution_count": 5,
   "metadata": {
    "colab": {
     "base_uri": "https://localhost:8080/",
     "height": 34
    },
    "id": "gi1V-VefSyEL",
    "outputId": "9c0a6057-14f4-4557-a2c2-26bac4602dca"
   },
   "outputs": [
    {
     "data": {
      "text/plain": [
       "array([ 3,  1, 10,  7,  1, 12])"
      ]
     },
     "execution_count": 5,
     "metadata": {},
     "output_type": "execute_result"
    }
   ],
   "source": [
    "X_train[0]"
   ]
  },
  {
   "cell_type": "code",
   "execution_count": 6,
   "metadata": {
    "colab": {
     "base_uri": "https://localhost:8080/",
     "height": 34
    },
    "id": "BAQJvHQn-Dmw",
    "outputId": "4bb23cc7-f104-4ca6-b8ac-7187a9a8b85c"
   },
   "outputs": [
    {
     "data": {
      "text/plain": [
       "(7000, 5)"
      ]
     },
     "execution_count": 6,
     "metadata": {},
     "output_type": "execute_result"
    }
   ],
   "source": [
    "y_train.shape"
   ]
  },
  {
   "cell_type": "code",
   "execution_count": 7,
   "metadata": {
    "colab": {
     "base_uri": "https://localhost:8080/",
     "height": 34
    },
    "id": "Zz0emBL7APlP",
    "outputId": "607f0494-f260-4fe9-ac25-64f4f7a03d93"
   },
   "outputs": [
    {
     "data": {
      "text/plain": [
       "array([11,  1,  0,  2, 12])"
      ]
     },
     "execution_count": 7,
     "metadata": {},
     "output_type": "execute_result"
    }
   ],
   "source": [
    "y_train[0]"
   ]
  },
  {
   "cell_type": "code",
   "execution_count": 8,
   "metadata": {
    "colab": {
     "base_uri": "https://localhost:8080/",
     "height": 34
    },
    "id": "cg45pl4pIu_p",
    "outputId": "aed23dd0-396b-47c8-9b59-8fac030e70b7"
   },
   "outputs": [
    {
     "data": {
      "text/plain": [
       "((7000, 6), (7000, 5))"
      ]
     },
     "execution_count": 8,
     "metadata": {},
     "output_type": "execute_result"
    }
   ],
   "source": [
    "X_train.shape, y_train.shape"
   ]
  },
  {
   "cell_type": "code",
   "execution_count": 9,
   "metadata": {
    "colab": {
     "base_uri": "https://localhost:8080/",
     "height": 34
    },
    "id": "Mjr0RK5jIyTS",
    "outputId": "977e75cb-95e0-4257-fa80-ee9528dda5c9"
   },
   "outputs": [
    {
     "data": {
      "text/plain": [
       "((3000, 6), (3000, 5))"
      ]
     },
     "execution_count": 9,
     "metadata": {},
     "output_type": "execute_result"
    }
   ],
   "source": [
    "X_test.shape, y_test.shape"
   ]
  },
  {
   "cell_type": "code",
   "execution_count": 44,
   "metadata": {
    "id": "qNRIjWaM1hal"
   },
   "outputs": [],
   "source": [
    "def char_to_int_map(max_value=9, min_value=0):\n",
    "    char_to_int = {str(n): n for n in range(min_value, max_value+1)}\n",
    "    n_terms = max_value - min_value + 1\n",
    "    char_to_int['+'] = n_terms\n",
    "    char_to_int['\\t'] = n_terms + 1\n",
    "    char_to_int['\\n'] = n_terms + 2\n",
    "    char_to_int[' '] = n_terms + 3\n",
    "    return char_to_int\n",
    "\n",
    "char_to_int = char_to_int_map()\n",
    "int_to_char = {v: k for k, v in char_to_int.items()}\n",
    "\n",
    "def decode(v):\n",
    "    return int_to_char[v]"
   ]
  },
  {
   "cell_type": "code",
   "execution_count": 45,
   "metadata": {
    "colab": {
     "base_uri": "https://localhost:8080/",
     "height": 35
    },
    "id": "sovyIeQ3CbBI",
    "outputId": "b2301d88-8d53-47b7-e66c-046187379579"
   },
   "outputs": [
    {
     "data": {
      "text/plain": [
       "'7+12+91\\n '"
      ]
     },
     "execution_count": 45,
     "metadata": {},
     "output_type": "execute_result"
    }
   ],
   "source": [
    "''.join([decode(x) for x in X_train[0]])"
   ]
  },
  {
   "cell_type": "code",
   "execution_count": 46,
   "metadata": {
    "colab": {
     "base_uri": "https://localhost:8080/",
     "height": 35
    },
    "id": "8rtyOakQCO6J",
    "outputId": "954f904e-5558-4d14-c5cc-052ae33b0afb"
   },
   "outputs": [
    {
     "data": {
      "text/plain": [
       "'\\t110\\n'"
      ]
     },
     "execution_count": 46,
     "metadata": {},
     "output_type": "execute_result"
    }
   ],
   "source": [
    "''.join([decode(x) for x in y_train[0]])"
   ]
  },
  {
   "cell_type": "markdown",
   "metadata": {
    "id": "rgCLkfv5uO3d"
   },
   "source": [
    "### Create a tf.data dataset"
   ]
  },
  {
   "cell_type": "code",
   "execution_count": 47,
   "metadata": {
    "id": "TqHsArVZ3jFS"
   },
   "outputs": [],
   "source": [
    "BUFFER_SIZE = X_train.shape[0]\n",
    "BATCH_SIZE = 32\n",
    "steps_per_epoch = X_train.shape[0] // BATCH_SIZE\n",
    "embedding_dim = 13\n",
    "units = 256\n",
    "bidir = True\n",
    "vocab_inp_size = len(char_to_int)\n",
    "vocab_tar_size = len(char_to_int)\n",
    "\n",
    "# Data is already padded, so we can just grab any one\n",
    "max_length_inp = len(X_train[0])\n",
    "max_length_targ = len(y_train[0])\n",
    "\n",
    "train_ds = tf.data.Dataset.from_tensor_slices((X_train, y_train)).shuffle(BUFFER_SIZE)\n",
    "train_ds = train_ds.batch(BATCH_SIZE, drop_remainder=True)"
   ]
  },
  {
   "cell_type": "code",
   "execution_count": 48,
   "metadata": {
    "colab": {
     "base_uri": "https://localhost:8080/",
     "height": 34
    },
    "id": "qc6-NK1GtWQt",
    "outputId": "c242e480-3713-462c-8196-019dc46ca4cd"
   },
   "outputs": [
    {
     "data": {
      "text/plain": [
       "(TensorShape([32, 9]), TensorShape([32, 5]))"
      ]
     },
     "execution_count": 48,
     "metadata": {},
     "output_type": "execute_result"
    }
   ],
   "source": [
    "example_input_batch, example_target_batch = next(iter(train_ds))\n",
    "example_input_batch.shape, example_target_batch.shape"
   ]
  },
  {
   "cell_type": "markdown",
   "metadata": {
    "id": "TNfHIF71ulLu"
   },
   "source": [
    "## Write the encoder and decoder model\n",
    "\n",
    "Implement an encoder-decoder model with attention which you can read about in the TensorFlow [Neural Machine Translation (seq2seq) tutorial](https://github.com/tensorflow/nmt). This example uses a more recent set of APIs. This notebook implements the [attention equations](https://github.com/tensorflow/nmt#background-on-the-attention-mechanism) from the seq2seq tutorial. The following diagram shows that each input words is assigned a weight by the attention mechanism which is then used by the decoder to predict the next word in the sentence. The below picture and formulas are an example of attention mechanism from [Luong's paper](https://arxiv.org/abs/1508.04025v5). \n",
    "\n",
    "<img src=\"https://www.tensorflow.org/images/seq2seq/attention_mechanism.jpg\" width=\"500\" alt=\"attention mechanism\">\n",
    "\n",
    "The input is put through an encoder model which gives us the encoder output of shape *(batch_size, max_length, hidden_size)* and the encoder hidden state of shape *(batch_size, hidden_size)*.\n",
    "\n",
    "Here are the equations that are implemented:\n",
    "\n",
    "<img src=\"https://www.tensorflow.org/images/seq2seq/attention_equation_0.jpg\" alt=\"attention equation 0\" width=\"800\">\n",
    "<img src=\"https://www.tensorflow.org/images/seq2seq/attention_equation_1.jpg\" alt=\"attention equation 1\" width=\"800\">\n",
    "\n",
    "This tutorial uses [Bahdanau attention](https://arxiv.org/pdf/1409.0473.pdf) for the encoder. Let's decide on notation before writing the simplified form:\n",
    "\n",
    "* FC = Fully connected (dense) layer\n",
    "* EO = Encoder output\n",
    "* H = hidden state\n",
    "* X = input to the decoder\n",
    "\n",
    "And the pseudo-code:\n",
    "\n",
    "* `score = FC(tanh(FC(EO) + FC(H)))`\n",
    "* `attention weights = softmax(score, axis = 1)`. Softmax by default is applied on the last axis but here we want to apply it on the *1st axis*, since the shape of score is *(batch_size, max_length, hidden_size)*. `Max_length` is the length of our input. Since we are trying to assign a weight to each input, softmax should be applied on that axis.\n",
    "* `context vector = sum(attention weights * EO, axis = 1)`. Same reason as above for choosing axis as 1.\n",
    "* `embedding output` = The input to the decoder X is passed through an embedding layer.\n",
    "* `merged vector = concat(embedding output, context vector)`\n",
    "* This merged vector is then given to the GRU\n",
    "\n",
    "The shapes of all the vectors at each step have been specified in the comments in the code:"
   ]
  },
  {
   "cell_type": "code",
   "execution_count": 49,
   "metadata": {
    "id": "nZ2rI24i3jFg"
   },
   "outputs": [],
   "source": [
    "class Encoder(tf.keras.Model):\n",
    "    def __init__(self, vocab_size, embedding_dim, enc_units, batch_sz, bidir):\n",
    "        super(Encoder, self).__init__()\n",
    "        self.batch_sz = batch_sz\n",
    "        self.enc_units = enc_units\n",
    "        self.bidir = bidir\n",
    "        self.embedding = tf.keras.layers.Embedding(vocab_size, embedding_dim, name='Encoder_Embedding')\n",
    "        self.gru = tf.keras.layers.GRU(self.enc_units,\n",
    "                                       return_sequences=True,\n",
    "                                       return_state=True,\n",
    "                                       recurrent_initializer='glorot_uniform',\n",
    "                                       name='Encoder_GRU')\n",
    "        if bidir:\n",
    "            self.bidir_gru = tf.keras.layers.Bidirectional(self.gru, name='Encoder_BidirGRU')\n",
    "\n",
    "    def call(self, x, hidden):\n",
    "        x = self.embedding(x)\n",
    "        if not self.bidir:\n",
    "            output, state = self.gru(x, initial_state = hidden)\n",
    "        else:\n",
    "            hidden = [hidden, hidden]\n",
    "            output, forward_state, reverse_state = self.bidir_gru(x, initial_state = hidden)\n",
    "            state = tf.concat([forward_state, reverse_state], axis=1)\n",
    "        return output, state\n",
    "\n",
    "    def initialize_hidden_state(self):\n",
    "        return tf.zeros((self.batch_sz, self.enc_units))"
   ]
  },
  {
   "cell_type": "code",
   "execution_count": 50,
   "metadata": {
    "id": "60gSVh05Jl6l"
   },
   "outputs": [],
   "source": [
    "encoder = Encoder(vocab_inp_size, embedding_dim, units, BATCH_SIZE, bidir)"
   ]
  },
  {
   "cell_type": "code",
   "execution_count": 51,
   "metadata": {
    "id": "umohpBN2OM94"
   },
   "outputs": [],
   "source": [
    "class BahdanauAttention(tf.keras.layers.Layer):\n",
    "    def __init__(self, units, bidir):\n",
    "        super(BahdanauAttention, self).__init__()\n",
    "        self.W1 = tf.keras.layers.Dense(units, name='Attn_W1')\n",
    "        self.W2 = tf.keras.layers.Dense(units, name='Attn_W2')\n",
    "        self.V = tf.keras.layers.Dense(1, name='Attn_V')\n",
    "        self.bidir = bidir\n",
    "\n",
    "    def call(self, query, values):\n",
    "        # query hidden state shape == (batch_size, hidden size)\n",
    "        # query_with_time_axis shape == (batch_size, 1, hidden size)\n",
    "        # values shape == (batch_size, max_len, hidden size)\n",
    "        # we are doing this to broadcast addition along the time axis to calculate the score\n",
    "        query_with_time_axis = tf.expand_dims(query, 1)\n",
    "\n",
    "        # score shape == (batch_size, max_length, 1)\n",
    "        # we get 1 at the last axis because we are applying score to self.V\n",
    "        # the shape of the tensor before applying self.V is (batch_size, max_length, units)\n",
    "        score = self.V(tf.nn.tanh(\n",
    "            self.W1(query_with_time_axis) + self.W2(values)))\n",
    "\n",
    "        # attention_weights shape == (batch_size, max_length, 1)\n",
    "        attention_weights = tf.nn.softmax(score, axis=1)\n",
    "\n",
    "        # context_vector shape after sum == (batch_size, hidden_size)\n",
    "        context_vector = attention_weights * values\n",
    "        context_vector = tf.reduce_sum(context_vector, axis=1)\n",
    "\n",
    "        return context_vector, attention_weights"
   ]
  },
  {
   "cell_type": "code",
   "execution_count": 52,
   "metadata": {
    "id": "yJ_B3mhW3jFk"
   },
   "outputs": [],
   "source": [
    "class Decoder(tf.keras.Model):\n",
    "    def __init__(self, vocab_size, embedding_dim, dec_units, batch_sz, bidir):\n",
    "        super(Decoder, self).__init__()\n",
    "        self.batch_sz = batch_sz\n",
    "        self.dec_units = dec_units\n",
    "        self.bidir = bidir\n",
    "        self.embedding = tf.keras.layers.Embedding(vocab_size, embedding_dim, name='Decoder_Embedding')\n",
    "        self.gru = tf.keras.layers.GRU(self.dec_units,\n",
    "                                       return_sequences=True,\n",
    "                                       return_state=True,\n",
    "                                       recurrent_initializer='glorot_uniform',\n",
    "                                       name='Decoder_GRU')\n",
    "        if bidir:\n",
    "            self.bidir_gru = tf.keras.layers.Bidirectional(self.gru, name='Decoder_BidirGRU')\n",
    "        self.fc = tf.keras.layers.Dense(vocab_size, name='Decoder_FC')\n",
    "\n",
    "        # used for attention\n",
    "        self.attention = BahdanauAttention(self.dec_units, self.bidir)\n",
    "\n",
    "    def call(self, x, hidden, enc_output):\n",
    "        # enc_output shape == (batch_size, max_length, hidden_size)\n",
    "        context_vector, attention_weights = self.attention(hidden, enc_output)\n",
    "\n",
    "        # x shape after passing through embedding == (batch_size, 1, embedding_dim)\n",
    "        x = self.embedding(x)\n",
    "\n",
    "        # x shape after concatenation == (batch_size, 1, embedding_dim + hidden_size)\n",
    "        x = tf.concat([tf.expand_dims(context_vector, 1), x], axis=-1)\n",
    "\n",
    "        # passing the concatenated vector to the GRU\n",
    "        if not self.bidir:\n",
    "            output, state = self.gru(x)\n",
    "        else:\n",
    "            output, forward_state, reverse_state = self.bidir_gru(x)\n",
    "            state = tf.concat([forward_state, reverse_state], axis=1)\n",
    "\n",
    "        # output shape == (batch_size * 1, hidden_size)\n",
    "        output = tf.reshape(output, (-1, output.shape[2]))\n",
    "\n",
    "        # output shape == (batch_size, vocab)\n",
    "        x = self.fc(output)\n",
    "\n",
    "        return x, state, attention_weights"
   ]
  },
  {
   "cell_type": "code",
   "execution_count": 53,
   "metadata": {
    "id": "P5UY8wko3jFp"
   },
   "outputs": [],
   "source": [
    "decoder = Decoder(vocab_tar_size, embedding_dim, units, BATCH_SIZE, bidir)"
   ]
  },
  {
   "cell_type": "markdown",
   "metadata": {
    "id": "_ch_71VbIRfK"
   },
   "source": [
    "## Define the optimizer and the loss function"
   ]
  },
  {
   "cell_type": "code",
   "execution_count": 20,
   "metadata": {
    "id": "WmTHr5iV3jFr"
   },
   "outputs": [],
   "source": [
    "optimizer = tf.keras.optimizers.Adam()\n",
    "loss_object = tf.keras.losses.SparseCategoricalCrossentropy(\n",
    "    from_logits=True, reduction='none')\n",
    "\n",
    "def loss_function(real, pred):\n",
    "    # Mask whitespace first\n",
    "    mask = tf.math.logical_not(tf.math.equal(real, char_to_int[' ']))\n",
    "    loss_ = loss_object(real, pred)\n",
    "\n",
    "    mask = tf.cast(mask, dtype=loss_.dtype)\n",
    "    loss_ *= mask\n",
    "\n",
    "    return tf.reduce_mean(loss_)"
   ]
  },
  {
   "cell_type": "markdown",
   "metadata": {
    "id": "DMVWzzsfNl4e"
   },
   "source": [
    "## Checkpoints (Object-based saving)"
   ]
  },
  {
   "cell_type": "code",
   "execution_count": 54,
   "metadata": {
    "id": "Zj8bXQTgNwrF"
   },
   "outputs": [],
   "source": [
    "checkpoint_dir = './training_checkpoints'\n",
    "checkpoint_prefix = os.path.join(checkpoint_dir, \"ckpt\")\n",
    "checkpoint = tf.train.Checkpoint(optimizer=optimizer,\n",
    "                                 encoder=encoder,\n",
    "                                 decoder=decoder)"
   ]
  },
  {
   "cell_type": "markdown",
   "metadata": {
    "id": "hpObfY22IddU"
   },
   "source": [
    "## Training\n",
    "\n",
    "1. Pass the *input* through the *encoder* which return *encoder output* and the *encoder hidden state*.\n",
    "2. The encoder output, encoder hidden state and the decoder input (which is the *start token*) is passed to the decoder.\n",
    "3. The decoder returns the *predictions* and the *decoder hidden state*.\n",
    "4. The decoder hidden state is then passed back into the model and the predictions are used to calculate the loss.\n",
    "5. Use *teacher forcing* to decide the next input to the decoder.\n",
    "6. *Teacher forcing* is the technique where the *target word* is passed as the *next input* to the decoder.\n",
    "7. The final step is to calculate the gradients and apply it to the optimizer and backpropagate."
   ]
  },
  {
   "cell_type": "code",
   "execution_count": 22,
   "metadata": {
    "id": "sC9ArXSsVfqn"
   },
   "outputs": [],
   "source": [
    "@tf.function\n",
    "def train_step(inp, targ, enc_hidden):\n",
    "    loss = 0\n",
    "\n",
    "    with tf.GradientTape() as tape:\n",
    "        enc_output, enc_hidden = encoder(inp, enc_hidden)\n",
    "        # print(f'enc_output.shape = {enc_output.shape}')\n",
    "        # print(f'enc_hidden.shape = {enc_hidden.shape}')\n",
    "\n",
    "        dec_hidden = enc_hidden\n",
    "\n",
    "        dec_input = tf.expand_dims([char_to_int['\\t']] * BATCH_SIZE, 1)\n",
    "        dec_input = tf.dtypes.cast(dec_input, tf.float32)\n",
    "        # print(f'dec_input.shape = {dec_input.shape}')\n",
    "\n",
    "        # Teacher forcing - feeding the target as the next input\n",
    "        for t in range(1, targ.shape[1]):\n",
    "            # passing enc_output to the decoder\n",
    "            predictions, dec_hidden, _ = decoder(dec_input, dec_hidden, enc_output)\n",
    "            # print(f'predictions.shape = {predictions.shape}')\n",
    "            # print(f'dec_hidden.shape = {dec_hidden.shape}')\n",
    "\n",
    "            loss += loss_function(targ[:, t], predictions)\n",
    "\n",
    "            # using teacher forcing\n",
    "            dec_input = tf.expand_dims(targ[:, t], 1)\n",
    "\n",
    "    batch_loss = (loss / int(targ.shape[1]))\n",
    "\n",
    "    variables = encoder.trainable_variables + decoder.trainable_variables\n",
    "\n",
    "    gradients = tape.gradient(loss, variables)\n",
    "\n",
    "    optimizer.apply_gradients(zip(gradients, variables))\n",
    "\n",
    "    return batch_loss"
   ]
  },
  {
   "cell_type": "code",
   "execution_count": 23,
   "metadata": {
    "colab": {
     "base_uri": "https://localhost:8080/",
     "height": 477
    },
    "id": "ddefjBMa3jF0",
    "outputId": "1d76d8e3-66e3-4d2a-aff2-00751c9a688c"
   },
   "outputs": [
    {
     "name": "stdout",
     "output_type": "stream",
     "text": [
      "Epoch 1 Loss 1.2315\n",
      "Time taken for 1 epoch 21.358434200286865 sec\n",
      "\n",
      "Epoch 2 Loss 0.9888\n",
      "Time taken for 1 epoch 13.86460280418396 sec\n",
      "\n",
      "Epoch 3 Loss 0.9604\n",
      "Time taken for 1 epoch 16.978954076766968 sec\n",
      "\n",
      "Epoch 4 Loss 0.9051\n",
      "Time taken for 1 epoch 13.825186967849731 sec\n",
      "\n",
      "Epoch 5 Loss 0.7358\n",
      "Time taken for 1 epoch 12.523950099945068 sec\n",
      "\n",
      "Epoch 6 Loss 0.5397\n",
      "Time taken for 1 epoch 12.253431797027588 sec\n",
      "\n",
      "Epoch 7 Loss 0.3576\n",
      "Time taken for 1 epoch 11.092602014541626 sec\n",
      "\n",
      "Epoch 8 Loss 0.2800\n",
      "Time taken for 1 epoch 13.771574020385742 sec\n",
      "\n",
      "Epoch 9 Loss 0.1879\n",
      "Time taken for 1 epoch 13.155783891677856 sec\n",
      "\n",
      "Epoch 10 Loss 0.1527\n",
      "Time taken for 1 epoch 12.979116678237915 sec\n",
      "\n",
      "Epoch 11 Loss 0.1067\n",
      "Time taken for 1 epoch 13.403764009475708 sec\n",
      "\n",
      "Epoch 12 Loss 0.1046\n",
      "Time taken for 1 epoch 12.581562995910645 sec\n",
      "\n",
      "Epoch 13 Loss 0.0749\n",
      "Time taken for 1 epoch 12.053032875061035 sec\n",
      "\n",
      "Epoch 14 Loss 0.0662\n",
      "Time taken for 1 epoch 12.693876028060913 sec\n",
      "\n",
      "Epoch 15 Loss 0.0518\n",
      "Time taken for 1 epoch 12.577167272567749 sec\n",
      "\n",
      "Epoch 16 Loss 0.0651\n",
      "Time taken for 1 epoch 10.994278907775879 sec\n",
      "\n",
      "Epoch 17 Loss 0.0437\n",
      "Time taken for 1 epoch 9.848409175872803 sec\n",
      "\n",
      "Epoch 18 Loss 0.0251\n",
      "Time taken for 1 epoch 10.050012111663818 sec\n",
      "\n",
      "Epoch 19 Loss 0.0263\n",
      "Time taken for 1 epoch 9.932040214538574 sec\n",
      "\n",
      "Epoch 20 Loss 0.0634\n",
      "Time taken for 1 epoch 11.464189767837524 sec\n",
      "\n"
     ]
    }
   ],
   "source": [
    "EPOCHS = 20\n",
    "\n",
    "for epoch in range(EPOCHS):\n",
    "    start = time.time()\n",
    "\n",
    "    enc_hidden = encoder.initialize_hidden_state()\n",
    "    total_loss = 0\n",
    "\n",
    "    for (batch, (inp, targ)) in enumerate(train_ds.take(steps_per_epoch)):\n",
    "        batch_loss = train_step(inp, targ, enc_hidden)\n",
    "        total_loss += batch_loss\n",
    "\n",
    "        # if batch % 100 == 0:\n",
    "        #   print('Epoch {} Batch {} Loss {:.4f}'.format(epoch + 1,\n",
    "        #                                                batch,\n",
    "        #                                                batch_loss.numpy()))\n",
    "    # saving (checkpoint) the model every 2 epochs\n",
    "    if (epoch + 1) % 2 == 0:\n",
    "        checkpoint.save(file_prefix = checkpoint_prefix)\n",
    "\n",
    "    print('Epoch {} Loss {:.4f}'.format(epoch + 1,\n",
    "                                  total_loss / steps_per_epoch))\n",
    "    print('Time taken for 1 epoch {} sec\\n'.format(time.time() - start))"
   ]
  },
  {
   "cell_type": "markdown",
   "metadata": {
    "id": "mU3Ce8M6I3rz"
   },
   "source": [
    "## Translate\n",
    "\n",
    "* The evaluate function is similar to the training loop, except we don't use *teacher forcing* here. The input to the decoder at each time step is its previous predictions along with the hidden state and the encoder output.\n",
    "* Stop predicting when the model predicts the *end token*.\n",
    "* And store the *attention weights for every time step*.\n",
    "\n",
    "Note: The encoder output is calculated only once for one input."
   ]
  },
  {
   "cell_type": "code",
   "execution_count": 55,
   "metadata": {
    "id": "EbQpyYs13jF_"
   },
   "outputs": [],
   "source": [
    "def evaluate(sentence):\n",
    "    attention_plot = np.zeros((max_length_targ, max_length_inp))\n",
    "\n",
    "    # Preprocess the input\n",
    "    inputs = [char_to_int[i] for i in sentence]\n",
    "    inputs = np.array(inputs).reshape(1, -1)\n",
    "    inputs = tf.convert_to_tensor(inputs)\n",
    "\n",
    "    # Start with a blank result\n",
    "    result = ''\n",
    "\n",
    "    # Initial hidden state is zeros\n",
    "    hidden = tf.zeros((1, units))\n",
    "\n",
    "    # Encode the input\n",
    "    enc_out, enc_hidden = encoder(inputs, hidden)\n",
    "\n",
    "    # Use the encoder's final hidden state as the dec's initial hidden state\n",
    "    dec_hidden = enc_hidden\n",
    "  \n",
    "    # Start by feeding the decoder the starting character \n",
    "    dec_input = tf.expand_dims([char_to_int['\\t']], 0)\n",
    "\n",
    "    for t in range(max_length_targ):\n",
    "        # Continually decode the current result, and store the attention weights for plotting\n",
    "        predictions, dec_hidden, attention_weights = decoder(dec_input, dec_hidden, enc_out)\n",
    "\n",
    "        # storing the attention weights to plot later on\n",
    "        attention_weights = tf.reshape(attention_weights, (-1, ))\n",
    "        attention_plot[t] = attention_weights.numpy()\n",
    "\n",
    "        predicted_id = tf.argmax(predictions[0]).numpy()\n",
    "\n",
    "        result += int_to_char[predicted_id]\n",
    "\n",
    "        if predicted_id == char_to_int['\\n']:\n",
    "            return result, sentence, attention_plot\n",
    "\n",
    "        # the predicted ID is fed back into the model\n",
    "        dec_input = tf.expand_dims([predicted_id], 0)\n",
    "\n",
    "    return result, sentence, attention_plot"
   ]
  },
  {
   "cell_type": "code",
   "execution_count": 56,
   "metadata": {
    "id": "s5hQWlbN3jGF"
   },
   "outputs": [],
   "source": [
    "# function for plotting the attention weights\n",
    "def plot_attention(attention, sentence, predicted_sentence):\n",
    "    fig = plt.figure(figsize=(10,10))\n",
    "    ax = fig.add_subplot(1, 1, 1)\n",
    "    ax.matshow(attention, cmap='Reds')\n",
    "\n",
    "    fontdict = {'fontsize': 14}\n",
    "    sentence = list(sentence)\n",
    "    # Appending a \\n doesn't jive with padding, need to fix this\n",
    "    sentence[-1] = r'\\n'\n",
    "    predicted_sentence = list(predicted_sentence)\n",
    "    predicted_sentence[-1] = r'\\n'\n",
    "\n",
    "    xticks = [''] + sentence\n",
    "    yticks = [''] + predicted_sentence\n",
    "    ax.set_xticklabels(xticks, fontdict=fontdict)\n",
    "    ax.set_yticklabels(yticks, fontdict=fontdict)\n",
    "\n",
    "    ax.xaxis.set_major_locator(ticker.MultipleLocator(1))\n",
    "    ax.yaxis.set_major_locator(ticker.MultipleLocator(1))\n",
    "\n",
    "    plt.show()"
   ]
  },
  {
   "cell_type": "code",
   "execution_count": 57,
   "metadata": {
    "id": "sl9zUHzg3jGI"
   },
   "outputs": [],
   "source": [
    "def translate(sentence):\n",
    "    result, sentence, attention_plot = evaluate(sentence)\n",
    "\n",
    "    print('Input: %s' % (sentence))\n",
    "    print('Predicted translation: {}'.format(result))\n",
    "\n",
    "    # attention_plot = attention_plot[:len(result), :len(sentence)]\n",
    "    plot_attention(attention_plot, sentence, result)"
   ]
  },
  {
   "cell_type": "markdown",
   "metadata": {
    "id": "n250XbnjOaqP"
   },
   "source": [
    "## Restore the latest checkpoint and test"
   ]
  },
  {
   "cell_type": "code",
   "execution_count": 58,
   "metadata": {
    "id": "UJpT9D5_OgP6"
   },
   "outputs": [
    {
     "data": {
      "text/plain": [
       "<tensorflow.python.training.tracking.util.CheckpointLoadStatus at 0x157045e80>"
      ]
     },
     "execution_count": 58,
     "metadata": {},
     "output_type": "execute_result"
    }
   ],
   "source": [
    "# restoring the latest checkpoint in checkpoint_dir\n",
    "checkpoint.restore(tf.train.latest_checkpoint(checkpoint_dir))"
   ]
  },
  {
   "cell_type": "code",
   "execution_count": 59,
   "metadata": {
    "id": "HF0Y_DQtHiEu"
   },
   "outputs": [],
   "source": [
    "def generate_example_plot(input=None, idx=None):\n",
    "    output = None\n",
    "    if idx is None and input is None:\n",
    "        idx = np.random.randint(X_test.shape[1])\n",
    "    if input is None:\n",
    "        input = X_test[idx]\n",
    "        output = y_test[idx]\n",
    "    if not isinstance(input, str):\n",
    "        test_input = ''.join([decode(x) for x in input])\n",
    "    else:\n",
    "        test_input = input\n",
    "    translate(test_input)\n",
    "\n",
    "    if output is not None:\n",
    "        print(f'Actual: {\"\".join([decode(x) for x in output]).strip()}')"
   ]
  },
  {
   "cell_type": "code",
   "execution_count": 64,
   "metadata": {
    "id": "WrAM0FDomq3E"
   },
   "outputs": [
    {
     "name": "stdout",
     "output_type": "stream",
     "text": [
      "Input: 26+5+37\n",
      " \n",
      "Predicted translation: 32\n",
      "\n"
     ]
    },
    {
     "name": "stderr",
     "output_type": "stream",
     "text": [
      "<ipython-input-56-c1de69a79c6e>:16: UserWarning: FixedFormatter should only be used together with FixedLocator\n",
      "  ax.set_xticklabels(xticks, fontdict=fontdict)\n",
      "<ipython-input-56-c1de69a79c6e>:17: UserWarning: FixedFormatter should only be used together with FixedLocator\n",
      "  ax.set_yticklabels(yticks, fontdict=fontdict)\n"
     ]
    },
    {
     "data": {
      "image/png": "[encoded data removed]",
      "text/plain": [
       "<Figure size 720x720 with 1 Axes>"
      ]
     },
     "metadata": {
      "needs_background": "light"
     },
     "output_type": "display_data"
    },
    {
     "name": "stdout",
     "output_type": "stream",
     "text": [
      "Actual: 68\n"
     ]
    }
   ],
   "source": [
    "generate_example_plot()"
   ]
  },
  {
   "cell_type": "markdown",
   "metadata": {
    "id": "E62256nsboMS"
   },
   "source": [
    "## Test set results"
   ]
  },
  {
   "cell_type": "code",
   "execution_count": 30,
   "metadata": {
    "id": "NPoGWEuIwzER"
   },
   "outputs": [
    {
     "name": "stdout",
     "output_type": "stream",
     "text": [
      "Actual = 90, result = 91\n",
      "Actual = 71, result = 61\n",
      "Actual = 43, result = 42\n"
     ]
    }
   ],
   "source": [
    "correct_cnt = 0\n",
    "incorrect_attn_plots = dict()\n",
    "\n",
    "for x, y in zip(X_test[:100], y_test[:100]):\n",
    "    input = ''.join([decode(i) for i in x])\n",
    "    result, sentence, attention_plot = evaluate(input)\n",
    "    result = result.strip()\n",
    "    actual = ''.join([decode(i) for i in y]).strip()\n",
    "    if result == actual:\n",
    "        correct_cnt += 1\n",
    "    else:\n",
    "        incorrect_attn_plots[(input, result, actual)] = attention_plot\n",
    "        print(f'Actual = {actual}, result = {result}')"
   ]
  },
  {
   "cell_type": "code",
   "execution_count": 31,
   "metadata": {
    "id": "nq0_WdG6fiH9"
   },
   "outputs": [
    {
     "name": "stdout",
     "output_type": "stream",
     "text": [
      "input = 82+8, result = 91, actual = 90\n"
     ]
    },
    {
     "name": "stderr",
     "output_type": "stream",
     "text": [
      "<ipython-input-25-c1de69a79c6e>:16: UserWarning: FixedFormatter should only be used together with FixedLocator\n",
      "  ax.set_xticklabels(xticks, fontdict=fontdict)\n",
      "<ipython-input-25-c1de69a79c6e>:17: UserWarning: FixedFormatter should only be used together with FixedLocator\n",
      "  ax.set_yticklabels(yticks, fontdict=fontdict)\n"
     ]
    },
    {
     "data": {
      "image/png": "[encoded data removed]",
      "text/plain": [
       "<Figure size 720x720 with 1 Axes>"
      ]
     },
     "metadata": {
      "needs_background": "light"
     },
     "output_type": "display_data"
    },
    {
     "name": "stdout",
     "output_type": "stream",
     "text": [
      "====================================================================================================\n",
      "input = 70+1, result = 61, actual = 71\n"
     ]
    },
    {
     "data": {
      "image/png": "[encoded data removed]",
      "text/plain": [
       "<Figure size 720x720 with 1 Axes>"
      ]
     },
     "metadata": {
      "needs_background": "light"
     },
     "output_type": "display_data"
    },
    {
     "name": "stdout",
     "output_type": "stream",
     "text": [
      "====================================================================================================\n",
      "input = 36+7, result = 42, actual = 43\n"
     ]
    },
    {
     "data": {
      "image/png": "[encoded data removed]",
      "text/plain": [
       "<Figure size 720x720 with 1 Axes>"
      ]
     },
     "metadata": {
      "needs_background": "light"
     },
     "output_type": "display_data"
    },
    {
     "name": "stdout",
     "output_type": "stream",
     "text": [
      "====================================================================================================\n"
     ]
    }
   ],
   "source": [
    "for k, attention_plot in incorrect_attn_plots.items():\n",
    "    sentence, result, actual = k\n",
    "    print(f'input = {sentence.strip()}, result = {result}, actual = {actual}')\n",
    "    plot_attention(attention_plot, sentence, result)\n",
    "    print('='*100)"
   ]
  },
  {
   "cell_type": "code",
   "execution_count": 32,
   "metadata": {
    "id": "Vug5BLqeia-O"
   },
   "outputs": [
    {
     "name": "stdout",
     "output_type": "stream",
     "text": [
      "Input: 0+12\n",
      " \n",
      "Predicted translation: 12\n",
      "\n"
     ]
    },
    {
     "name": "stderr",
     "output_type": "stream",
     "text": [
      "<ipython-input-25-c1de69a79c6e>:16: UserWarning: FixedFormatter should only be used together with FixedLocator\n",
      "  ax.set_xticklabels(xticks, fontdict=fontdict)\n",
      "<ipython-input-25-c1de69a79c6e>:17: UserWarning: FixedFormatter should only be used together with FixedLocator\n",
      "  ax.set_yticklabels(yticks, fontdict=fontdict)\n"
     ]
    },
    {
     "data": {
      "image/png": "[encoded data removed]",
      "text/plain": [
       "<Figure size 720x720 with 1 Axes>"
      ]
     },
     "metadata": {
      "needs_background": "light"
     },
     "output_type": "display_data"
    }
   ],
   "source": [
    "generate_example_plot(input='0+12\\n ')"
   ]
  },
  {
   "cell_type": "code",
   "execution_count": null,
   "metadata": {
    "id": "fFEwdC9Gk4YV"
   },
   "outputs": [],
   "source": []
  }
 ],
 "metadata": {
  "accelerator": "GPU",
  "colab": {
   "collapsed_sections": [],
   "name": "Seq2Seq with Attention.ipynb",
   "provenance": []
  },
  "kernelspec": {
   "display_name": "Python 3",
   "language": "python",
   "name": "python3"
  },
  "language_info": {
   "codemirror_mode": {
    "name": "ipython",
    "version": 3
   },
   "file_extension": ".py",
   "mimetype": "text/x-python",
   "name": "python",
   "nbconvert_exporter": "python",
   "pygments_lexer": "ipython3",
   "version": "3.8.5"
  }
 },
 "nbformat": 4,
 "nbformat_minor": 1
}
